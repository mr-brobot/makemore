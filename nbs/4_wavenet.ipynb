{
 "cells": [
  {
   "cell_type": "markdown",
   "metadata": {},
   "source": [
    "# Setup"
   ]
  },
  {
   "cell_type": "code",
   "execution_count": 1,
   "metadata": {},
   "outputs": [
    {
     "data": {
      "text/plain": [
       "['emma', 'olivia', 'ava', 'isabella', 'sophia']"
      ]
     },
     "execution_count": 1,
     "metadata": {},
     "output_type": "execute_result"
    }
   ],
   "source": [
    "with open('../data/names.txt') as names_file:\n",
    "    words = names_file.read().splitlines()\n",
    "\n",
    "words[:5]"
   ]
  },
  {
   "cell_type": "code",
   "execution_count": 2,
   "metadata": {},
   "outputs": [
    {
     "data": {
      "text/plain": [
       "32033"
      ]
     },
     "execution_count": 2,
     "metadata": {},
     "output_type": "execute_result"
    }
   ],
   "source": [
    "len(words)"
   ]
  },
  {
   "cell_type": "code",
   "execution_count": 3,
   "metadata": {},
   "outputs": [
    {
     "data": {
      "text/plain": [
       "15"
      ]
     },
     "execution_count": 3,
     "metadata": {},
     "output_type": "execute_result"
    }
   ],
   "source": [
    "max(len(word) for word in words)"
   ]
  },
  {
   "cell_type": "code",
   "execution_count": 4,
   "metadata": {},
   "outputs": [],
   "source": [
    "from string import ascii_lowercase\n",
    "\n",
    "from torchtext.vocab import build_vocab_from_iterator\n",
    "\n",
    "STOP = \".\"\n",
    "\n",
    "vocab = build_vocab_from_iterator([STOP] + list(ascii_lowercase))"
   ]
  },
  {
   "cell_type": "code",
   "execution_count": 5,
   "metadata": {},
   "outputs": [],
   "source": [
    "import random\n",
    "\n",
    "random.seed(42)\n",
    "random.shuffle(words)"
   ]
  },
  {
   "cell_type": "code",
   "execution_count": 6,
   "metadata": {},
   "outputs": [
    {
     "name": "stdout",
     "output_type": "stream",
     "text": [
      "torch.Size([182625, 8]) torch.Size([182625])\n",
      "torch.Size([22655, 8]) torch.Size([22655])\n",
      "torch.Size([22866, 8]) torch.Size([22866])\n"
     ]
    }
   ],
   "source": [
    "import torch\n",
    "\n",
    "# context length: how many characters do we take to predict the next one?\n",
    "block_size = 8\n",
    "\n",
    "def build_dataset(words):  \n",
    "  X, Y = [], []\n",
    "  \n",
    "  for w in words:\n",
    "    context = [0] * block_size\n",
    "    for ch in w + '.':\n",
    "      ix = vocab[ch]\n",
    "      X.append(context)\n",
    "      Y.append(ix)\n",
    "      context = context[1:] + [ix] # crop and append\n",
    "\n",
    "  X = torch.tensor(X)\n",
    "  Y = torch.tensor(Y)\n",
    "  print(X.shape, Y.shape)\n",
    "  return X, Y\n",
    "\n",
    "n1 = int(0.8*len(words))\n",
    "n2 = int(0.9*len(words))\n",
    "Xtr,  Ytr  = build_dataset(words[:n1])     # 80%\n",
    "Xdev, Ydev = build_dataset(words[n1:n2])   # 10%\n",
    "Xte,  Yte  = build_dataset(words[n2:])     # 10%"
   ]
  },
  {
   "cell_type": "code",
   "execution_count": 7,
   "metadata": {},
   "outputs": [
    {
     "name": "stdout",
     "output_type": "stream",
     "text": [
      "........ --> y\n",
      ".......y --> u\n",
      "......yu --> h\n",
      ".....yuh --> e\n",
      "....yuhe --> n\n",
      "...yuhen --> g\n",
      "..yuheng --> .\n",
      "........ --> d\n",
      ".......d --> i\n",
      "......di --> o\n",
      ".....dio --> n\n",
      "....dion --> d\n",
      "...diond --> r\n",
      "..diondr --> e\n",
      ".diondre --> .\n",
      "........ --> x\n",
      ".......x --> a\n",
      "......xa --> v\n",
      ".....xav --> i\n",
      "....xavi --> e\n"
     ]
    }
   ],
   "source": [
    "for x, y in zip(Xtr[:20], Ytr[:20]):\n",
    "  context = [vocab.lookup_token(ix.item()) for ix in x]\n",
    "  predicted = y.item()\n",
    "  print(''.join(context), '-->', vocab.lookup_token(predicted))"
   ]
  },
  {
   "cell_type": "markdown",
   "metadata": {},
   "source": [
    "# Model"
   ]
  },
  {
   "cell_type": "code",
   "execution_count": 14,
   "metadata": {},
   "outputs": [],
   "source": [
    "torch.manual_seed(42);"
   ]
  },
  {
   "cell_type": "code",
   "execution_count": 108,
   "metadata": {},
   "outputs": [],
   "source": [
    "import torch\n",
    "from torch import nn\n",
    "\n",
    "class Coalesce(nn.Module):\n",
    "  to_dim: \"int\"\n",
    "  from_dim: \"int\"\n",
    "  factor: \"int\"\n",
    "\n",
    "  def __init__(self, dim: \"int\", factor: \"int\"):\n",
    "    super().__init__()\n",
    "    self.dim = dim\n",
    "    self.factor = factor\n",
    "\n",
    "  def forward(self, x):\n",
    "    x_shape = [*x.shape]\n",
    "\n",
    "    # determine shape of output tensor\n",
    "    target_shape = []\n",
    "    for i, dim in enumerate(x_shape):\n",
    "      if i == self.dim:\n",
    "        target_shape.append(dim // self.factor)\n",
    "      elif i == self.dim + 1:\n",
    "        target_shape.append(dim * self.factor)\n",
    "      else:\n",
    "        target_shape.append(dim)\n",
    "\n",
    "    x = x.reshape(*target_shape)\n",
    "\n",
    "    if target_shape[self.dim] == 1:\n",
    "      x = x.squeeze(self.dim)\n",
    "    \n",
    "    return x\n",
    "\n",
    "class Transpose(nn.Module):\n",
    "  def __init__(self, dim0: \"int\", dim1: \"int\"):\n",
    "    super().__init__()\n",
    "    self.dim0 = dim0\n",
    "    self.dim1 = dim1\n",
    "\n",
    "  def forward(self, x):\n",
    "    return torch.transpose(x, self.dim0, self.dim1)"
   ]
  },
  {
   "cell_type": "code",
   "execution_count": 115,
   "metadata": {},
   "outputs": [
    {
     "data": {
      "text/plain": [
       "79227"
      ]
     },
     "execution_count": 115,
     "metadata": {},
     "output_type": "execute_result"
    }
   ],
   "source": [
    "import torch\n",
    "\n",
    "from torch.nn import (\n",
    "    Sequential,\n",
    "    Embedding,\n",
    "    Linear,\n",
    "    BatchNorm1d,\n",
    "    Tanh\n",
    ")\n",
    "\n",
    "dim_emb = 32 # dimensionality of embedding vectors\n",
    "dim_h = 128 # number of neurons in the hidden layer\n",
    "\n",
    "model = Sequential(\n",
    "    Embedding(len(vocab), dim_emb),\n",
    "    Coalesce(dim=1, factor=2), Linear(dim_emb * 2, dim_h), Transpose(1, 2), BatchNorm1d(dim_h), Transpose(1, 2), Tanh(),\n",
    "    Coalesce(dim=1, factor=2), Linear(dim_h * 2, dim_h), Transpose(1, 2), BatchNorm1d(dim_h), Transpose(1, 2), Tanh(),\n",
    "    Coalesce(dim=1, factor=2), Linear(dim_h * 2, dim_h), BatchNorm1d(dim_h), Tanh(),\n",
    "    Linear(dim_h, len(vocab)),\n",
    ")\n",
    "\n",
    "# parameter initialization\n",
    "with torch.no_grad():\n",
    "    layers = list(model.children())\n",
    "    layers[-1].weight *= 0.1 # reduce confidence of output layer\n",
    "\n",
    "for p in model.parameters():\n",
    "    p.requires_grad = True\n",
    "\n",
    "sum(p.numel() for p in model.parameters())\n"
   ]
  },
  {
   "cell_type": "code",
   "execution_count": 116,
   "metadata": {},
   "outputs": [
    {
     "name": "stdout",
     "output_type": "stream",
     "text": [
      "Input (16, 8)\n",
      "Embedding (16, 8, 32)\n",
      "Coalesce (16, 4, 64)\n",
      "Linear (16, 4, 128)\n",
      "Transpose (16, 128, 4)\n",
      "BatchNorm1d (16, 128, 4)\n",
      "Transpose (16, 4, 128)\n",
      "Tanh (16, 4, 128)\n",
      "Coalesce (16, 2, 256)\n",
      "Linear (16, 2, 128)\n",
      "Transpose (16, 128, 2)\n",
      "BatchNorm1d (16, 128, 2)\n",
      "Transpose (16, 2, 128)\n",
      "Tanh (16, 2, 128)\n",
      "Coalesce (16, 256)\n",
      "Linear (16, 128)\n",
      "BatchNorm1d (16, 128)\n",
      "Tanh (16, 128)\n",
      "Linear (16, 27)\n"
     ]
    }
   ],
   "source": [
    "import torch\n",
    "\n",
    "i = torch.randint(0, len(Xtr), (16,))\n",
    "x = Xtr[i]\n",
    "\n",
    "print(\"Input\", tuple([*x.shape]))\n",
    "\n",
    "for child in model.children():\n",
    "    name = child.__class__.__name__\n",
    "    x = child(x)\n",
    "    print(name, tuple([*x.shape]))\n"
   ]
  },
  {
   "cell_type": "code",
   "execution_count": 117,
   "metadata": {},
   "outputs": [
    {
     "name": "stdout",
     "output_type": "stream",
     "text": [
      "0 / 200000: 3.3028\n",
      "10000 / 200000: 2.1892\n",
      "20000 / 200000: 1.9966\n",
      "30000 / 200000: 1.8100\n",
      "40000 / 200000: 1.7562\n",
      "50000 / 200000: 2.0985\n",
      "60000 / 200000: 2.3251\n",
      "70000 / 200000: 1.7686\n",
      "80000 / 200000: 1.9305\n",
      "90000 / 200000: 1.8252\n",
      "100000 / 200000: 1.7751\n",
      "110000 / 200000: 1.9933\n",
      "120000 / 200000: 2.2303\n",
      "130000 / 200000: 1.8829\n",
      "140000 / 200000: 1.7976\n",
      "150000 / 200000: 1.7899\n",
      "160000 / 200000: 1.8762\n",
      "170000 / 200000: 1.7405\n",
      "180000 / 200000: 1.7684\n",
      "190000 / 200000: 1.8632\n"
     ]
    }
   ],
   "source": [
    "from torch.nn.functional import cross_entropy\n",
    "\n",
    "max_steps = 200_000\n",
    "batch_size = 32\n",
    "lossi = []\n",
    "\n",
    "# training mode\n",
    "model.train()\n",
    "\n",
    "for i in range(max_steps):\n",
    "    # minibatch\n",
    "    ix = torch.randint(0, len(Xtr), (batch_size,))\n",
    "    Xb, Yb = Xtr[ix], Ytr[ix]\n",
    "\n",
    "    # forward pass\n",
    "    logits = model(Xb)\n",
    "\n",
    "    loss = cross_entropy(logits, Yb)\n",
    "\n",
    "    # backward pass\n",
    "    for p in model.parameters():\n",
    "        p.grad = None\n",
    "    loss.backward()\n",
    "\n",
    "    # update (simple sgd)\n",
    "    lr = 0.1 if i < 150_000 else 0.01 # step learning rate decay\n",
    "    for p in model.parameters():\n",
    "        p.data += -lr * p.grad\n",
    "\n",
    "    # track stats\n",
    "    lossi.append(loss.log10().item())\n",
    "    if i % 10_000 == 0:\n",
    "        print(f\"{i} / {max_steps}: {loss.item():.4f}\")"
   ]
  },
  {
   "cell_type": "code",
   "execution_count": 118,
   "metadata": {},
   "outputs": [
    {
     "data": {
      "image/png": "[encoded data removed]",
      "text/plain": [
       "<Figure size 640x480 with 1 Axes>"
      ]
     },
     "metadata": {},
     "output_type": "display_data"
    }
   ],
   "source": [
    "import matplotlib.pyplot as plt\n",
    "\n",
    "# mean for losses in 1k batches\n",
    "loss_u = torch.tensor(lossi).view(-1, 1000).mean(dim=1)\n",
    "\n",
    "plt.plot(loss_u);"
   ]
  },
  {
   "cell_type": "code",
   "execution_count": 119,
   "metadata": {},
   "outputs": [
    {
     "name": "stdout",
     "output_type": "stream",
     "text": [
      "train 1.7648465633392334\n",
      "dev 1.9897912740707397\n"
     ]
    }
   ],
   "source": [
    "import torch\n",
    "from torch.nn.functional import cross_entropy\n",
    "\n",
    "model.eval()\n",
    "\n",
    "@torch.no_grad()\n",
    "def split_loss(split: \"str\"):\n",
    "    splits = {\n",
    "        \"train\": (Xtr, Ytr),\n",
    "        \"dev\": (Xdev, Ydev),\n",
    "        \"test\": (Xte, Yte),\n",
    "    }\n",
    "\n",
    "    X, Y = splits[split]\n",
    "\n",
    "    logits = model(X)\n",
    "    loss = cross_entropy(logits, Y)\n",
    "\n",
    "    print(split, loss.item())\n",
    "\n",
    "split_loss(\"train\")\n",
    "split_loss(\"dev\")"
   ]
  },
  {
   "cell_type": "code",
   "execution_count": 120,
   "metadata": {},
   "outputs": [
    {
     "name": "stdout",
     "output_type": "stream",
     "text": [
      "kinseus\n",
      "dearin\n",
      "aporit\n",
      "corlend\n",
      "zayveon\n",
      "deeka\n",
      "jacey\n",
      "adrold\n",
      "dimsan\n",
      "prezley\n",
      "srew\n",
      "amaus\n",
      "kalieya\n",
      "beatla\n",
      "izey\n",
      "zarethi\n",
      "brennemeer\n",
      "octau\n",
      "bezelah\n",
      "alexandra\n"
     ]
    }
   ],
   "source": [
    "import torch\n",
    "from torch.nn.functional import softmax\n",
    "\n",
    "for _ in range(20):\n",
    "    out = []\n",
    "    context = [0] * block_size # initialize context\n",
    "    while True:\n",
    "        logits = model(torch.tensor([context]))\n",
    "        probs = softmax(logits, dim=1)\n",
    "        ix = torch.multinomial(probs, num_samples=1).item()\n",
    "        predicted = vocab.lookup_token(ix)\n",
    "\n",
    "        # predicted end of word?\n",
    "        if predicted == STOP:\n",
    "            break\n",
    "\n",
    "        # update output and shift context\n",
    "        out.append(predicted)\n",
    "        context = context[1:] + [ix]\n",
    "    \n",
    "    print(\"\".join(out))"
   ]
  }
 ],
 "metadata": {
  "kernelspec": {
   "display_name": "Python 3.10.8 64-bit",
   "language": "python",
   "name": "python3"
  },
  "language_info": {
   "codemirror_mode": {
    "name": "ipython",
    "version": 3
   },
   "file_extension": ".py",
   "mimetype": "text/x-python",
   "name": "python",
   "nbconvert_exporter": "python",
   "pygments_lexer": "ipython3",
   "version": "3.10.8"
  },
  "orig_nbformat": 4,
  "vscode": {
   "interpreter": {
    "hash": "949777d72b0d2535278d3dc13498b2535136f6dfe0678499012e853ee9abcab1"
   }
  }
 },
 "nbformat": 4,
 "nbformat_minor": 2
}
